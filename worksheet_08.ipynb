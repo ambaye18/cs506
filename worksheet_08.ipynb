{
 "cells": [
  {
   "attachments": {},
   "cell_type": "markdown",
   "metadata": {},
   "source": [
    "# Worksheet 08\n",
    "\n",
    "Name:  Al Mbaye\n",
    "UID: U36811669\n",
    "\n",
    "### Topics\n",
    "\n",
    "- Soft Clustering\n",
    "- Clustering Aggregation\n",
    "\n",
    "### Probability Review\n",
    "\n",
    "Read through [the following](https://medium.com/@gallettilance/overview-of-probability-3272b72c82c8)\n",
    "\n",
    "### Soft Clustering\n",
    "\n",
    "We generate 10 data points that come from a normal distribution with mean 5 and variance 1."
   ]
  },
  {
   "cell_type": "code",
   "execution_count": 1,
   "metadata": {},
   "outputs": [
    {
     "name": "stdout",
     "output_type": "stream",
     "text": [
      "[4.0262447621859865, 5.657627794935047, 5.837855939799306, 5.41535826943198, 3.531255485773168, 4.528801272198257, 5.074887200825845, 4.661152216067535, 3.9763421344554883, 5.4831337073253845]\n"
     ]
    }
   ],
   "source": [
    "import random\n",
    "import numpy as np\n",
    "from sklearn.cluster import KMeans\n",
    "\n",
    "mean = 5\n",
    "stdev = 1\n",
    "\n",
    "s1 = np.random.normal(mean, stdev, 10).tolist()\n",
    "print(s1)"
   ]
  },
  {
   "cell_type": "markdown",
   "metadata": {},
   "source": [
    "a) Generate 10 more data points, this time coming from a normal distribution with mean 8 and variance 1."
   ]
  },
  {
   "cell_type": "code",
   "execution_count": 2,
   "metadata": {},
   "outputs": [
    {
     "name": "stdout",
     "output_type": "stream",
     "text": [
      "[9.990170983203859, 7.860285134550463, 6.886683358012993, 7.082371427737429, 6.107278723547298, 7.864536668394574, 8.227574708396467, 8.881469561929931, 7.170508351645418, 7.5127563884695805]\n"
     ]
    }
   ],
   "source": [
    "s2 = np.random.normal(8, 1 , 10 ).tolist()\n",
    "print(s2)"
   ]
  },
  {
   "cell_type": "markdown",
   "metadata": {},
   "source": [
    "b) Flip a fair coin 10 times. If the coin lands on H, then pick the last data point of `c1` and remove it from `c1`, if T then pick the last data point from `c2` and remove it from `c2`. Add these 10 points to a list called `data`."
   ]
  },
  {
   "cell_type": "code",
   "execution_count": 3,
   "metadata": {},
   "outputs": [
    {
     "name": "stdout",
     "output_type": "stream",
     "text": [
      "[5.4831337073253845, 3.9763421344554883, 7.5127563884695805, 7.170508351645418, 4.661152216067535, 5.074887200825845, 8.881469561929931, 8.227574708396467, 7.864536668394574, 6.107278723547298]\n"
     ]
    }
   ],
   "source": [
    "data = []\n",
    "for i in range(10):\n",
    "    # flip coin\n",
    "    coin_output = random.choice([0, 1])\n",
    "    if coin_output == 0:\n",
    "        p1 = s1.pop()\n",
    "        data.append(p1)\n",
    "    else:\n",
    "        p2 = s2.pop()\n",
    "        data.append(p2)\n",
    "print(data)"
   ]
  },
  {
   "cell_type": "markdown",
   "metadata": {},
   "source": [
    "c) This `data` is a Gaussian Mixture Distribution with 2 mixture components. Over the next few questions we will walk through the GMM algorithm to see if we can uncover the parameters we used to generate this data. First, please list all these parameters of the GMM that created `data` and the values we know they have."
   ]
  },
  {
   "cell_type": "markdown",
   "metadata": {},
   "source": [
    "The data originates from a Gaussian Mixture Distribution with two mixture components. The parameters and their known values include:\n",
    "\n",
    "-there are two distinct species or distributions.\n",
    "-probability that a data point is drawn from each species is 0.5\n",
    "-for each species, determining the mean, variance, and probabilities will provide valuable insights into the underlying distribution of the data"
   ]
  },
  {
   "cell_type": "markdown",
   "metadata": {},
   "source": [
    "d) Let's assume there are two mixture components (note: we could plot the data and make the observation that there are two clusters). The EM algorithm asks us to start with a random `mean_j`, `variance_j`, `P(S_j)` for each component j. One method we could use to find sensible values for these is to apply K means with k=2 here.\n",
    "\n",
    "1. the centroids would be the estimates of the `mean_j`\n",
    "2. the intra-cluster variance could be the estimate of `variance_j`\n",
    "3. the proportion of points in each cluster could be the estimate of `P(S_j)`\n",
    "\n",
    "Go through this process and list the parameter estimates it gives. Are they close or far from the true values?"
   ]
  },
  {
   "cell_type": "code",
   "execution_count": 4,
   "metadata": {},
   "outputs": [
    {
     "name": "stdout",
     "output_type": "stream",
     "text": [
      "[5.4831337073253845, 3.9763421344554883, 4.661152216067535, 5.074887200825845, 6.107278723547298]\n",
      "[7.5127563884695805, 7.170508351645418, 8.881469561929931, 8.227574708396467, 7.864536668394574]\n",
      "P(S_1) = 0.5,  P(S_2) = 0.5\n",
      "mean_1 = 5.06055879644431,  mean_2 = 7.931369135767194\n",
      "var_1 = 0.5218897701710409,  var_2 = 0.3498081809521643\n"
     ]
    }
   ],
   "source": [
    "kmeans = KMeans(2, init='k-means++').fit(X=np.array(data).reshape(-1, 1))\n",
    "\n",
    "s1 = [x[0] for x in filter(lambda x: x[1] == 0, zip(data, kmeans.labels_))]\n",
    "print(s1)\n",
    "s2 = [x[0] for x in filter(lambda x: x[1] == 1, zip(data, kmeans.labels_))]\n",
    "print(s2)\n",
    "\n",
    "prob_s = [ len(s1) / (len(s1) + len(s2)) , len(s2) / (len(s1) + len(s2)) ]\n",
    "mean = [ sum(s1)/len(s1) , sum(s2)/len(s2) ]\n",
    "var = [ sum(map(lambda x : (x - mean[0])**2, s1)) / len(s1) , sum(map(lambda x : (x - mean[1])**2, s2)) / len(s2) ]\n",
    "\n",
    "print(\"P(S_1) = \" + str(prob_s[0]) + \",  P(S_2) = \" + str(prob_s[1]))\n",
    "print(\"mean_1 = \" + str(mean[0]) + \",  mean_2 = \" + str(mean[1]))\n",
    "print(\"var_1 = \" + str(var[0]) + \",  var_2 = \" + str(var[1]))"
   ]
  },
  {
   "cell_type": "markdown",
   "metadata": {},
   "source": []
  },
  {
   "cell_type": "markdown",
   "metadata": {},
   "source": [
    "e) For each data point, compute `P(S_j | X_i)`. Comment on which cluster you think each point belongs to based on the estimated probabilities. How does that compare to the truth?"
   ]
  },
  {
   "cell_type": "code",
   "execution_count": 5,
   "metadata": {},
   "outputs": [
    {
     "name": "stdout",
     "output_type": "stream",
     "text": [
      "point =  5.4831337073253845\n",
      "probability of observing that point if it came from cluster 0 =  0.550764546303593\n",
      "probability of observing that point if it came from cluster 1 =  2.6334861021134202e-11\n",
      "point =  3.9763421344554883\n",
      "probability of observing that point if it came from cluster 0 =  0.08833617128003206\n",
      "probability of observing that point if it came from cluster 1 =  1.9895391767173486e-28\n",
      "point =  7.5127563884695805\n",
      "probability of observing that point if it came from cluster 0 =  1.228074907045648e-05\n",
      "probability of observing that point if it came from cluster 1 =  0.5573262950488165\n",
      "point =  7.170508351645418\n",
      "probability of observing that point if it came from cluster 0 =  0.0002157973623166522\n",
      "probability of observing that point if it came from cluster 1 =  0.10709331262973666\n",
      "point =  4.661152216067535\n",
      "probability of observing that point if it came from cluster 0 =  0.5703597027725548\n",
      "probability of observing that point if it came from cluster 1 =  1.2000741264016791e-19\n",
      "point =  5.074887200825845\n",
      "probability of observing that point if it came from cluster 0 =  0.7641306199605836\n",
      "probability of observing that point if it came from cluster 1 =  3.779668822122485e-15\n",
      "point =  8.881469561929931\n",
      "probability of observing that point if it came from cluster 0 =  1.7536090288824698e-12\n",
      "probability of observing that point if it came from cluster 1 =  0.028522489062131944\n",
      "point =  8.227574708396467\n",
      "probability of observing that point if it came from cluster 0 =  7.706923673149707e-09\n",
      "probability of observing that point if it came from cluster 1 =  0.7968615830987442\n",
      "point =  7.864536668394574\n",
      "probability of observing that point if it came from cluster 0 =  4.1218010448395845e-07\n",
      "probability of observing that point if it came from cluster 1 =  1.1198344512260738\n",
      "point =  6.107278723547298\n",
      "probability of observing that point if it came from cluster 0 =  0.10229200594574382\n",
      "probability of observing that point if it came from cluster 1 =  1.4207769899550539e-06\n",
      "5.4831337073253845\n",
      "Probability of coming from S_0 = 0.9999999999521849\n",
      "Probability of coming from S_1 = 4.7815098478322666e-11\n",
      "\n",
      "3.9763421344554883\n",
      "Probability of coming from S_0 = 1.0\n",
      "Probability of coming from S_1 = 2.252236142780476e-27\n",
      "\n",
      "7.5127563884695805\n",
      "Probability of coming from S_0 = 2.2034629583777398e-05\n",
      "Probability of coming from S_1 = 0.9999779653704163\n",
      "\n",
      "7.170508351645418\n",
      "Probability of coming from S_0 = 0.0020109882780001893\n",
      "Probability of coming from S_1 = 0.9979890117219998\n",
      "\n",
      "4.661152216067535\n",
      "Probability of coming from S_0 = 1.0\n",
      "Probability of coming from S_1 = 2.1040654179600042e-19\n",
      "\n",
      "5.074887200825845\n",
      "Probability of coming from S_0 = 0.9999999999999951\n",
      "Probability of coming from S_1 = 4.94636482741319e-15\n",
      "\n",
      "8.881469561929931\n",
      "Probability of coming from S_0 = 6.148162682978622e-11\n",
      "Probability of coming from S_1 = 0.9999999999385184\n",
      "\n",
      "8.227574708396467\n",
      "Probability of coming from S_0 = 9.67159637517177e-09\n",
      "Probability of coming from S_1 = 0.9999999903284037\n",
      "\n",
      "7.864536668394574\n",
      "Probability of coming from S_0 = 3.6807222024704504e-07\n",
      "Probability of coming from S_1 = 0.9999996319277797\n",
      "\n",
      "6.107278723547298\n",
      "Probability of coming from S_0 = 0.999986110769426\n",
      "Probability of coming from S_1 = 1.3889230573984665e-05\n",
      "\n"
     ]
    }
   ],
   "source": [
    "from scipy.stats import norm\n",
    "\n",
    "prob_s0_x = [] # P(S_0 | X_i)\n",
    "prob_s1_x = [] # P(S_1 | X_i)\n",
    "prob_x = [] # P(X_i)\n",
    "\n",
    "k = 2\n",
    "\n",
    "for p in data:\n",
    "    print(\"point = \", p)\n",
    "    pdf_i = []\n",
    "\n",
    "    for j in range(k):\n",
    "        # P(X_i | S_j)\n",
    "        pdf_i.append(norm.pdf(p, mean[j], var[j]))\n",
    "        print(\"probability of observing that point if it came from cluster \" + str(j) + \" = \", pdf_i[j])\n",
    "        # P(S_j) already computed\n",
    "        prob_s[j]\n",
    "\n",
    "    # P(X_i) = P(S_0)P(X_i | S_0) + P(S_1)P(X_i | S_1)\n",
    "    prob_x_i = prob_s[0] * pdf_i[0] + prob_s[1] * pdf_i[1]\n",
    "\n",
    "    # P(S_0 | X_i) = P(X_i | S_0)P(S_0) / P(X_i)\n",
    "    prob_s0_x_i = (pdf_i[0] * prob_s[0]) / prob_x_i\n",
    "    prob_s0_x.append( prob_s0_x_i )\n",
    "    # P(S_1 | X_i) = P(X_i | S_1)P(S_1) / P(X_i)\n",
    "    prob_s1_x_i = (pdf_i[1] * prob_s[1]) / prob_x_i\n",
    "    prob_s1_x.append( prob_s1_x_i )\n",
    "\n",
    "probs = zip(data, prob_s0_x, prob_s1_x)\n",
    "for p in probs:\n",
    "    print(p[0])\n",
    "    print(\"Probability of coming from S_0 = \" + str(p[1]))\n",
    "    print(\"Probability of coming from S_1 = \" + str(p[2]))\n",
    "    print()\n"
   ]
  },
  {
   "cell_type": "markdown",
   "metadata": {},
   "source": [
    "f) Having computed `P(S_j | X_i)`, update the estimates of `mean_j`, `var_j`, and `P(S_j)`. How different are these values from the original ones you got from K means? briefly comment."
   ]
  },
  {
   "cell_type": "code",
   "execution_count": 6,
   "metadata": {},
   "outputs": [
    {
     "name": "stdout",
     "output_type": "stream",
     "text": [
      "P(S_1) = 0.5,  P(S_2) = 0.5\n",
      "mean_1 = 5.061415178922478,  mean_2 = 7.931672056605907\n",
      "var_1 = 0.5234921902909357,  var_2 = 0.34972497808703557\n"
     ]
    }
   ],
   "source": [
    "prob_c = [sum(prob_s0_x)/ len(prob_s0_x), sum(prob_s1_x) / len(prob_s1_x)]\n",
    "mean = [sum([x[0] * x[1] for x in zip(prob_s0_x, data)]) / sum(prob_s0_x), sum([x[0] * x[1] for x in zip(prob_s1_x, data)]) / sum(prob_s1_x)  ]\n",
    "var = [sum([x[0] * ((x[1] - mean[0])**2) for x in zip(prob_s0_x, data)]) / sum(prob_s0_x) , sum([x[0] * ((x[1] - mean[1])**2) for x in zip(prob_s1_x, data)]) / sum(prob_s1_x)]\n",
    "\n",
    "print(\"P(S_1) = \" + str(prob_s[0]) + \",  P(S_2) = \" + str(prob_s[1]))\n",
    "print(\"mean_1 = \" + str(mean[0]) + \",  mean_2 = \" + str(mean[1]))\n",
    "print(\"var_1 = \" + str(var[0]) + \",  var_2 = \" + str(var[1]))"
   ]
  },
  {
   "cell_type": "markdown",
   "metadata": {},
   "source": []
  },
  {
   "cell_type": "markdown",
   "metadata": {},
   "source": [
    "g) Update `P(S_j | X_i)`. Comment on any differences or lack thereof you observe."
   ]
  },
  {
   "cell_type": "code",
   "execution_count": 7,
   "metadata": {},
   "outputs": [
    {
     "name": "stdout",
     "output_type": "stream",
     "text": [
      "5.4831337073253845\n",
      "Probability of coming from S_0 = 0.9999999999530634\n",
      "Probability of coming from S_1 = 4.6936488488673746e-11\n",
      "\n",
      "3.9763421344554883\n",
      "Probability of coming from S_0 = 1.0\n",
      "Probability of coming from S_1 = 2.1477183740849715e-27\n",
      "\n",
      "7.5127563884695805\n",
      "Probability of coming from S_0 = 2.3727488236017437e-05\n",
      "Probability of coming from S_1 = 0.999976272511764\n",
      "\n",
      "7.170508351645418\n",
      "Probability of coming from S_0 = 0.0021288269420479994\n",
      "Probability of coming from S_1 = 0.997871173057952\n",
      "\n",
      "4.661152216067535\n",
      "Probability of coming from S_0 = 1.0\n",
      "Probability of coming from S_1 = 2.0481396999453567e-19\n",
      "\n",
      "5.074887200825845\n",
      "Probability of coming from S_0 = 0.9999999999999952\n",
      "Probability of coming from S_1 = 4.846040380935625e-15\n",
      "\n",
      "8.881469561929931\n",
      "Probability of coming from S_0 = 7.306927132301043e-11\n",
      "Probability of coming from S_1 = 0.9999999999269308\n",
      "\n",
      "8.227574708396467\n",
      "Probability of coming from S_0 = 1.0898008478270854e-08\n",
      "Probability of coming from S_1 = 0.9999999891019916\n",
      "\n",
      "7.864536668394574\n",
      "Probability of coming from S_0 = 4.0461829894950165e-07\n",
      "Probability of coming from S_1 = 0.9999995953817011\n",
      "\n",
      "6.107278723547298\n",
      "Probability of coming from S_0 = 0.9999864408998361\n",
      "Probability of coming from S_1 = 1.3559100163855199e-05\n",
      "\n"
     ]
    }
   ],
   "source": [
    "prob_s0_x = []  # P(S_0 | X_i)\n",
    "prob_s1_x = []  # P(S_1 | X_i)\n",
    "\n",
    "for p in data:\n",
    "    pdf_i = []\n",
    "\n",
    "    for j in range(k):\n",
    "        # P(X_i | S_j)\n",
    "        pdf_i.append(norm.pdf(p, mean[j], var[j]))\n",
    "\n",
    "    # P(S_0 | X_i) = P(X_i | S_0)P(S_0) / P(X_i)\n",
    "    prob_s0_x_i = (pdf_i[0] * prob_c[0]) / (pdf_i[0] * prob_c[0] + pdf_i[1] * prob_c[1])\n",
    "    prob_s0_x.append(prob_s0_x_i)\n",
    "\n",
    "    # P(S_1 | X_i) = P(X_i | S_1)P(S_1) / P(X_i)\n",
    "    prob_s1_x_i = (pdf_i[1] * prob_c[1]) / (pdf_i[0] * prob_c[0] + pdf_i[1] * prob_c[1])\n",
    "    prob_s1_x.append(prob_s1_x_i)\n",
    "\n",
    "# Print updated posterior probabilities\n",
    "probs = zip(data, prob_s0_x, prob_s1_x)\n",
    "for p in probs:\n",
    "    print(p[0])\n",
    "    print(\"Probability of coming from S_0 = \" + str(p[1]))\n",
    "    print(\"Probability of coming from S_1 = \" + str(p[2]))\n",
    "    print()"
   ]
  },
  {
   "cell_type": "markdown",
   "metadata": {},
   "source": []
  },
  {
   "cell_type": "markdown",
   "metadata": {},
   "source": [
    "h) Use `P(S_j | X_i)` to create a hard assignment - label each point as belonging to a specific cluster (0 or 1)"
   ]
  },
  {
   "cell_type": "code",
   "execution_count": 8,
   "metadata": {},
   "outputs": [
    {
     "name": "stdout",
     "output_type": "stream",
     "text": [
      "Data point 0 belongs to Cluster 0\n",
      "Data point 1 belongs to Cluster 0\n",
      "Data point 2 belongs to Cluster 1\n",
      "Data point 3 belongs to Cluster 1\n",
      "Data point 4 belongs to Cluster 0\n",
      "Data point 5 belongs to Cluster 0\n",
      "Data point 6 belongs to Cluster 1\n",
      "Data point 7 belongs to Cluster 1\n",
      "Data point 8 belongs to Cluster 1\n",
      "Data point 9 belongs to Cluster 0\n"
     ]
    }
   ],
   "source": [
    "hard_assignments = []  # List to store hard cluster assignments\n",
    "\n",
    "for p_s0, p_s1 in zip(prob_s0_x, prob_s1_x):\n",
    "    if p_s0 > p_s1:\n",
    "        hard_assignments.append(0)  # Assign to cluster 0\n",
    "    else:\n",
    "        hard_assignments.append(1)  # Assign to cluster 1\n",
    "\n",
    "# Print the hard assignments\n",
    "for i, assignment in enumerate(hard_assignments):\n",
    "    print(f\"Data point {i} belongs to Cluster {assignment}\")"
   ]
  }
 ],
 "metadata": {
  "kernelspec": {
   "display_name": "Python 3",
   "language": "python",
   "name": "python3"
  },
  "language_info": {
   "codemirror_mode": {
    "name": "ipython",
    "version": 3
   },
   "file_extension": ".py",
   "mimetype": "text/x-python",
   "name": "python",
   "nbconvert_exporter": "python",
   "pygments_lexer": "ipython3",
   "version": "3.8.5"
  },
  "orig_nbformat": 4,
  "vscode": {
   "interpreter": {
    "hash": "e7370f93d1d0cde622a1f8e1c04877d8463912d04d973331ad4851f04de6915a"
   }
  }
 },
 "nbformat": 4,
 "nbformat_minor": 2
}
